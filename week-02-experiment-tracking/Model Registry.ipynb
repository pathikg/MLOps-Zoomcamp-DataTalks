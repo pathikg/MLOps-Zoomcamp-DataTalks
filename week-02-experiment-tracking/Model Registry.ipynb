{
 "cells": [
  {
   "cell_type": "markdown",
   "id": "91f97931",
   "metadata": {},
   "source": [
    "# Model Registry 🏬\n",
    "\n",
    "Till now we've learn to run ML experiments and store those models locally but we still haven't yet decided which models are ready for production and if they're ready for production then how to keep track of all of them ? \n",
    "\n",
    "<img src=\"https://c.tenor.com/eYVYAKpC5jUAAAAM/packing-tryingtopacklike.gif\" alt=\"packing bag\" width=\"400\">\n",
    "\n",
    "Here comes the **Model Registry**  \n",
    ">A model registry is a repository used to store and version trained machine learning (ML) models. Model registries greatly simplify the task of tracking models as they move through the ML lifecycle, from training to production deployments and ultimately retirement\n",
    "\n",
    "![model_registry_banner](./images/model_registry_banner.jpg)\n",
    "\n",
    "In **MLFlow** Model registry, we have labels assigned to models such as \n",
    "* staging : ready for production\n",
    "* production : currently in production\n",
    "* archieve : previously used production model (stored in case we need to rollback)"
   ]
  },
  {
   "cell_type": "markdown",
   "id": "5edf9215",
   "metadata": {},
   "source": [
    "# Model Registry in MLFlow "
   ]
  },
  {
   "cell_type": "code",
   "execution_count": 1,
   "id": "a14dc601",
   "metadata": {},
   "outputs": [
    {
     "name": "stdout",
     "output_type": "stream",
     "text": [
      "CPU times: user 3 µs, sys: 0 ns, total: 3 µs\n",
      "Wall time: 7.39 µs\n"
     ]
    }
   ],
   "source": [
    "%time\n",
    "import pickle\n",
    "import pandas as pd\n",
    "import seaborn as sns\n",
    "import matplotlib.pyplot as plt\n",
    "from sklearn.feature_extraction import DictVectorizer\n",
    "from sklearn.linear_model import LinearRegression\n",
    "from sklearn.linear_model import Lasso\n",
    "from sklearn.linear_model import Ridge\n",
    "from sklearn.metrics import mean_squared_error"
   ]
  },
  {
   "cell_type": "code",
   "execution_count": 2,
   "id": "ded211bd",
   "metadata": {},
   "outputs": [
    {
     "name": "stdout",
     "output_type": "stream",
     "text": [
      "CPU times: user 3 µs, sys: 0 ns, total: 3 µs\n",
      "Wall time: 5.96 µs\n"
     ]
    },
    {
     "data": {
      "text/plain": [
       "<Experiment: artifact_location='./mlruns/1', experiment_id='1', lifecycle_stage='active', name='nyc-taxi-experiment', tags={}>"
      ]
     },
     "execution_count": 2,
     "metadata": {},
     "output_type": "execute_result"
    }
   ],
   "source": [
    "%time\n",
    "import mlflow\n",
    "mlflow.set_tracking_uri(\"sqlite:///mlflow.db\")\n",
    "mlflow.set_experiment(\"nyc-taxi-experiment\")"
   ]
  },
  {
   "cell_type": "code",
   "execution_count": 3,
   "id": "02b7eba1",
   "metadata": {},
   "outputs": [],
   "source": [
    "import xgboost as xgb"
   ]
  },
  {
   "cell_type": "markdown",
   "id": "96bc98e7",
   "metadata": {},
   "source": [
    "## Data Prep"
   ]
  },
  {
   "cell_type": "code",
   "execution_count": 4,
   "id": "9d90b2e0",
   "metadata": {},
   "outputs": [],
   "source": [
    "def read_dataframe(filename):\n",
    "    df = pd.read_parquet(filename)\n",
    "\n",
    "    df.lpep_dropoff_datetime = pd.to_datetime(df.lpep_dropoff_datetime)\n",
    "    df.lpep_pickup_datetime = pd.to_datetime(df.lpep_pickup_datetime)\n",
    "\n",
    "    df['duration'] = df.lpep_dropoff_datetime - df.lpep_pickup_datetime\n",
    "    df.duration = df.duration.apply(lambda td: td.total_seconds() / 60)\n",
    "\n",
    "    df = df[(df.duration >= 1) & (df.duration <= 60)]\n",
    "\n",
    "    categorical = ['PULocationID', 'DOLocationID']\n",
    "    df[categorical] = df[categorical].astype(str)\n",
    "    \n",
    "    return df"
   ]
  },
  {
   "cell_type": "code",
   "execution_count": 5,
   "id": "77ac5102",
   "metadata": {},
   "outputs": [],
   "source": [
    "df_train = read_dataframe('./data/green_tripdata_2021-01.parquet')\n",
    "df_val = read_dataframe('./data/green_tripdata_2021-02.parquet')\n",
    "\n",
    "df_train['PU_DO'] = df_train['PULocationID'] + '_' + df_train['DOLocationID']\n",
    "df_val['PU_DO'] = df_val['PULocationID'] + '_' + df_val['DOLocationID']\n",
    "\n",
    "categorical = ['PU_DO'] #'PULocationID', 'DOLocationID']\n",
    "numerical = ['trip_distance']\n",
    "\n",
    "dv = DictVectorizer()\n",
    "\n",
    "train_dicts = df_train[categorical + numerical].to_dict(orient='records')\n",
    "X_train = dv.fit_transform(train_dicts)\n",
    "\n",
    "val_dicts = df_val[categorical + numerical].to_dict(orient='records')\n",
    "X_val = dv.transform(val_dicts)\n",
    "\n",
    "target = 'duration'\n",
    "y_train = df_train[target].values\n",
    "y_val = df_val[target].values"
   ]
  },
  {
   "cell_type": "markdown",
   "id": "d5165985",
   "metadata": {},
   "source": [
    "## Train some models for demonstration"
   ]
  },
  {
   "cell_type": "code",
   "execution_count": 18,
   "id": "540bafe3",
   "metadata": {},
   "outputs": [],
   "source": [
    "for alpha in [0.1, 0.4, 0.7] : \n",
    "    with mlflow.start_run():\n",
    "        mlflow.set_tag(\"tutorial\", \"registry\")\n",
    "        \n",
    "        mlflow.log_param(\"alpha\" , alpha)\n",
    "        lr = Lasso(alpha)\n",
    "        lr.fit(X_train, y_train)\n",
    "\n",
    "        y_pred = lr.predict(X_val)\n",
    "        rmse = mean_squared_error(y_val, y_pred, squared=False)\n",
    "        mlflow.log_metric(\"rmse\", rmse)\n",
    "        \n",
    "        mlflow.sklearn.log_model(lr, artifact_path=\"mlflow_model\")"
   ]
  },
  {
   "cell_type": "code",
   "execution_count": 21,
   "id": "9e255d04",
   "metadata": {},
   "outputs": [
    {
     "name": "stdout",
     "output_type": "stream",
     "text": [
      "[21:39:23] WARNING: ../src/objective/regression_obj.cu:203: reg:linear is now deprecated in favor of reg:squarederror.\n",
      "[0]\tvalidation-rmse:19.48425\n",
      "[1]\tvalidation-rmse:17.95634\n",
      "[2]\tvalidation-rmse:16.59114\n",
      "[3]\tvalidation-rmse:15.37412\n",
      "[4]\tvalidation-rmse:14.29011\n",
      "[5]\tvalidation-rmse:13.32800\n",
      "[6]\tvalidation-rmse:12.47570\n",
      "[7]\tvalidation-rmse:11.72140\n",
      "[8]\tvalidation-rmse:11.05888\n",
      "[9]\tvalidation-rmse:10.47583\n"
     ]
    }
   ],
   "source": [
    "with mlflow.start_run() :\n",
    "    mlflow.set_tag(\"tutorial\", \"registry\")\n",
    "    \n",
    "    train = xgb.DMatrix(X_train, label=y_train)\n",
    "    valid = xgb.DMatrix(X_val, label=y_val)\n",
    "\n",
    "    best_params = {\n",
    "        'learning_rate': 0.09585355369315604,\n",
    "        'max_depth': 30,\n",
    "        'min_child_weight': 1.060597050922164,\n",
    "        'objective': 'reg:squarederror',\n",
    "        'reg_alpha': 0.018060244040060163,\n",
    "        'reg_lambda': 0.011658731377413597,\n",
    "        'seed': 42\n",
    "    }\n",
    "\n",
    "    mlflow.log_params(best_params)\n",
    "\n",
    "    booster = xgb.train(\n",
    "        params=best_params,\n",
    "        dtrain=train,\n",
    "        num_boost_round=10,\n",
    "        evals=[(valid, 'validation')],\n",
    "        early_stopping_rounds=10,\n",
    "    )\n",
    "    \n",
    "    # tracking model using log_model\n",
    "    mlflow.xgboost.log_model(booster, artifact_path=\"mlflow_model\")\n",
    "    \n",
    "    y_pred = booster.predict(valid)\n",
    "    rmse = mean_squared_error(y_val, y_pred, squared=False)\n",
    "    mlflow.log_metric(\"rmse\",rmse)"
   ]
  },
  {
   "cell_type": "markdown",
   "id": "8e0a9b8f",
   "metadata": {},
   "source": [
    "Open MLflow UI, find our latest runs with the models and sort runs w.r.t metric `rmse`\n",
    "![demo_models](./images/demo_models.jpg)\n",
    "\n",
    "After this as a data scientist you need to **Analyze** these models and select a subset of them which can be used in production  \n",
    "i.e. checking `size` of the model, training `duration` (more complex, more duration), `metric`, etc.  \n",
    "\n",
    "For this experiment, I am going to select the first `xgboost` model and the third `Lasso` model cuz of the lesser `duration` and `rmse`"
   ]
  },
  {
   "attachments": {},
   "cell_type": "markdown",
   "id": "d20d60a5",
   "metadata": {},
   "source": [
    "# Promoting models to registry\n",
    "\n",
    "Go to our `xgboost` model present in the `Artifacts`section of the first run, \n",
    "![xgb_register](./images/xgb_register.jpg)\n",
    "\n",
    "Create new model registry (if none is created before), \n",
    "![xgb_register_2.jpg](./images/xgb_register_2.jpg)\n",
    "\n",
    "Similarly register that third `Lasso` model\n",
    "\n",
    "Now if we wanna have a look at our register model, go to the `Models` section at the top of MLFlow UI\n",
    "![registry_ui](./images/registry_ui.jpg)\n",
    "\n",
    "If we click on `nyc-taxi-models` registry, we will be able to see the models which we had previously registered\n",
    "![registry_ui2.jpg](./images/registry_ui2.jpg)\n",
    "\n",
    "\n",
    "Lets see whats there inside each model,\n",
    "![registry_ui3.jpg](./images/registry_ui3.jpg)\n",
    "\n",
    "Ooof wait, there's nothing here ?\n",
    "but PATHIK you had earlier said that we will be having information about its `hyperparameters`, `metrics`, etc. ?\n",
    "\n",
    "YES dumbo, just click on the `Source Run` and you're good to go XD!\n",
    "\n",
    "![source_run.jpg](./images/source_run.jpg)\n",
    "\n",
    "anyways if you noticed, we now have a nice `model lineage`\n",
    ">A model's lineage is a set of associations between a model and all the components that were involved in the creation of that mode"
   ]
  },
  {
   "cell_type": "markdown",
   "id": "e2f410cd",
   "metadata": {},
   "source": [
    "## Model Staging\n",
    "\n",
    "We've just registered our models in registry but not yet declared which model is for **Production**, which is for **Staging** so lets do it \n",
    "\n",
    "Go to any of the registered model, lets say `Version 2`\n",
    "\n",
    "![staging1](./images/staging1.jpg)\n",
    "\n",
    "Simply Click on `Transistion to Staging` i.e. we are saying this model `Version 2` is listed in `Staging`\n",
    "\n",
    "Do the same for other model and you should see something like this : \n",
    "\n",
    "![staging2.jpg](./images/staging2.jpg)\n",
    "\n",
    "Well done data scientist ! \n",
    "\n",
    "![pew pew gif](https://c.tenor.com/FMFNIABbtgkAAAAC/finger-guns-michael-scott.gif)\n",
    "\n",
    "Now we hand over the next task to lets say a deployment engineer to decide which model should be promoted to next stage"
   ]
  },
  {
   "cell_type": "markdown",
   "id": "473c7d6a",
   "metadata": {},
   "source": [
    "# MLFlow Client\n",
    "\n",
    "If we don't want MLFlow UI then we can access everything in UI using `MlflowClient` "
   ]
  },
  {
   "cell_type": "code",
   "execution_count": 22,
   "id": "1c10e706",
   "metadata": {},
   "outputs": [],
   "source": [
    "from mlflow.tracking import MlflowClient"
   ]
  },
  {
   "cell_type": "code",
   "execution_count": 24,
   "id": "5a1134bc",
   "metadata": {},
   "outputs": [],
   "source": [
    "MLFLOW_TRACKING_URI= \"sqlite:///mlflow.db\"\n",
    "client = MlflowClient(MLFLOW_TRACKING_URI)"
   ]
  },
  {
   "cell_type": "code",
   "execution_count": 33,
   "id": "ac7e49e3",
   "metadata": {},
   "outputs": [
    {
     "data": {
      "text/plain": [
       "[<Experiment: artifact_location='./mlruns/0', experiment_id='0', lifecycle_stage='active', name='Default', tags={}>,\n",
       " <Experiment: artifact_location='./mlruns/1', experiment_id='1', lifecycle_stage='active', name='nyc-taxi-experiment', tags={}>]"
      ]
     },
     "execution_count": 33,
     "metadata": {},
     "output_type": "execute_result"
    }
   ],
   "source": [
    "client.list_experiments()"
   ]
  },
  {
   "cell_type": "markdown",
   "id": "72b4401e",
   "metadata": {},
   "source": [
    "## Explore runs in experiment_id=1"
   ]
  },
  {
   "cell_type": "code",
   "execution_count": 31,
   "id": "d4aa31e6",
   "metadata": {},
   "outputs": [],
   "source": [
    "from mlflow.entities import ViewType\n",
    "\n",
    "runs = client.search_runs(\n",
    "    experiment_ids='1', # Experiment name in UI\n",
    "    filter_string='tags.tutorial = \"registry\"', #  search filter which works like SQL queries \n",
    "    run_view_type=ViewType.ACTIVE_ONLY, \n",
    "    max_results=5, # results to return\n",
    "    order_by=[\"metrics.rmse ASC\"] # sort metrics in ascending\n",
    ")"
   ]
  },
  {
   "cell_type": "code",
   "execution_count": 34,
   "id": "dda603e5",
   "metadata": {},
   "outputs": [
    {
     "name": "stdout",
     "output_type": "stream",
     "text": [
      "run id: ccbcf1ee02804891862b01150ccf5d56, rmse: 10.4758\n",
      "run id: 08394232080c4587a32ac0d3a9fe36f7, rmse: 12.1432\n",
      "run id: 59195799b10744208831eebbedabb61c, rmse: 12.2126\n",
      "run id: 4220940ad45c44e8885228bcb5671da1, rmse: 12.2126\n"
     ]
    }
   ],
   "source": [
    "for run in runs:\n",
    "    print(f\"run id: {run.info.run_id}, rmse: {run.data.metrics['rmse']:.4f}\")"
   ]
  },
  {
   "cell_type": "markdown",
   "id": "de270562",
   "metadata": {},
   "source": [
    "## Interacting with the Model Registry\n",
    "In this section We will use the MlflowClient instance to:\n",
    "\n",
    "* Register a new version for the experiment `nyc-taxi-regressor`\n",
    "* Retrieve the latests versions of the model `nyc-taxi-regressor` and check that a new version 4 was created.\n",
    "* Transition the version 4 to \"Staging\" and adding annotations to it."
   ]
  },
  {
   "cell_type": "code",
   "execution_count": 35,
   "id": "8ad7b1c8",
   "metadata": {},
   "outputs": [],
   "source": [
    "mlflow.set_tracking_uri(MLFLOW_TRACKING_URI)"
   ]
  },
  {
   "cell_type": "markdown",
   "id": "00abcfd3",
   "metadata": {},
   "source": [
    "### Registering model"
   ]
  },
  {
   "cell_type": "code",
   "execution_count": 37,
   "id": "867f09ef",
   "metadata": {},
   "outputs": [
    {
     "name": "stderr",
     "output_type": "stream",
     "text": [
      "Registered model 'nyc-taxi-models' already exists. Creating a new version of this model...\n",
      "2022/06/20 00:49:43 INFO mlflow.tracking._model_registry.client: Waiting up to 300 seconds for model version to finish creation.                     Model name: nyc-taxi-models, version 3\n",
      "Created version '3' of model 'nyc-taxi-models'.\n"
     ]
    },
    {
     "data": {
      "text/plain": [
       "<ModelVersion: creation_timestamp=1655666383559, current_stage='None', description=None, last_updated_timestamp=1655666383559, name='nyc-taxi-models', run_id='08394232080c4587a32ac0d3a9fe36f7', run_link=None, source='./mlruns/1/08394232080c4587a32ac0d3a9fe36f7/artifacts/model', status='READY', status_message=None, tags={}, user_id=None, version=3>"
      ]
     },
     "execution_count": 37,
     "metadata": {},
     "output_type": "execute_result"
    }
   ],
   "source": [
    "run_id = \"08394232080c4587a32ac0d3a9fe36f7\" # 2nd model from above output\n",
    "model_uri = f\"runs:/{run_id}/model\"\n",
    "mlflow.register_model(model_uri=model_uri, name=\"nyc-taxi-models\")"
   ]
  },
  {
   "cell_type": "markdown",
   "id": "c1aa2d76",
   "metadata": {},
   "source": [
    "If you check the MLflow UI for model registery then you will see registered model\n",
    "\n",
    "![registered_model](./images/registered_model.jpg)\n",
    "\n",
    "(btw I added version into `Production` before doing this)"
   ]
  },
  {
   "cell_type": "markdown",
   "id": "98bb27c8",
   "metadata": {},
   "source": [
    "## lets promote the model to staging"
   ]
  },
  {
   "cell_type": "code",
   "execution_count": 40,
   "id": "cf7a6405",
   "metadata": {},
   "outputs": [
    {
     "name": "stdout",
     "output_type": "stream",
     "text": [
      "version: 1, stage: Staging\n",
      "version: 2, stage: Production\n",
      "version: 3, stage: None\n"
     ]
    }
   ],
   "source": [
    "model_name = \"nyc-taxi-models\"\n",
    "latest_versions = client.get_latest_versions(name=model_name)\n",
    "\n",
    "for version in latest_versions:\n",
    "    print(f\"version: {version.version}, stage: {version.current_stage}\")"
   ]
  },
  {
   "cell_type": "code",
   "execution_count": 41,
   "id": "3d8940d1",
   "metadata": {},
   "outputs": [
    {
     "data": {
      "text/plain": [
       "<ModelVersion: creation_timestamp=1655666383559, current_stage='Staging', description=None, last_updated_timestamp=1655666848072, name='nyc-taxi-models', run_id='08394232080c4587a32ac0d3a9fe36f7', run_link=None, source='./mlruns/1/08394232080c4587a32ac0d3a9fe36f7/artifacts/model', status='READY', status_message=None, tags={}, user_id=None, version=3>"
      ]
     },
     "execution_count": 41,
     "metadata": {},
     "output_type": "execute_result"
    }
   ],
   "source": [
    "client.transition_model_version_stage(\n",
    "    name=model_name,\n",
    "    version=3,\n",
    "    stage=\"Staging\",\n",
    "    archive_existing_versions=False\n",
    ")"
   ]
  },
  {
   "cell_type": "markdown",
   "id": "b4577110",
   "metadata": {},
   "source": [
    "Taddaa !\n",
    "![staging3.jpg](./images/staging3.jpg)"
   ]
  },
  {
   "cell_type": "markdown",
   "id": "f69c6eee",
   "metadata": {},
   "source": [
    "That's pretty much it :)"
   ]
  }
 ],
 "metadata": {
  "kernelspec": {
   "display_name": "Python 3 (ipykernel)",
   "language": "python",
   "name": "python3"
  },
  "language_info": {
   "codemirror_mode": {
    "name": "ipython",
    "version": 3
   },
   "file_extension": ".py",
   "mimetype": "text/x-python",
   "name": "python",
   "nbconvert_exporter": "python",
   "pygments_lexer": "ipython3",
   "version": "3.9.12"
  }
 },
 "nbformat": 4,
 "nbformat_minor": 5
}
